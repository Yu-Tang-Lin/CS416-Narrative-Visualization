{
 "cells": [
  {
   "cell_type": "code",
   "execution_count": 3,
   "id": "c94f899c",
   "metadata": {},
   "outputs": [],
   "source": [
    "import pandas as pd\n",
    "\n",
    "data = pd.read_csv('us-states.csv')\n",
    "data['date'] = pd.to_datetime(data['date'])\n",
    "data = data[data['date'] < pd.to_datetime('2022-05-01')]\n",
    "grouped_data = data.groupby('state')\n",
    "processed_data = pd.DataFrame()\n",
    "\n",
    "for state, group in grouped_data:\n",
    "    group = group.sort_values('date')\n",
    "    group['daily cases'] = group['cases'].diff()\n",
    "    group['daily deaths'] = group['deaths'].diff()\n",
    "    processed_data = pd.concat([processed_data, group])\n",
    "\n",
    "processed_data.reset_index(drop=True, inplace=True)\n",
    "processed_data.to_csv('us-states_processed.csv', index=False)"
   ]
  },
  {
   "cell_type": "code",
   "execution_count": 6,
   "id": "7e9cc128",
   "metadata": {},
   "outputs": [
    {
     "name": "stderr",
     "output_type": "stream",
     "text": [
      "C:\\Users\\lanew\\AppData\\Local\\Temp\\ipykernel_26068\\2431562929.py:10: FutureWarning: Indexing with multiple keys (implicitly converted to a tuple of keys) will be deprecated, use a list instead.\n",
      "  df_grouped = df.groupby('date')['daily cases', 'daily deaths'].sum().reset_index()\n"
     ]
    }
   ],
   "source": [
    "df = pd.read_csv('us-states_processed.csv')\n",
    "df['date'] = pd.to_datetime(df['date'])\n",
    "df_grouped = df.groupby('date')['daily cases', 'daily deaths'].sum().reset_index()\n",
    "df_grouped['state'] = 'US'\n",
    "df_grouped.to_csv('us-states_processed_sum.csv', index=False)\n"
   ]
  },
  {
   "cell_type": "code",
   "execution_count": null,
   "id": "b01d5a75",
   "metadata": {},
   "outputs": [],
   "source": []
  }
 ],
 "metadata": {
  "kernelspec": {
   "display_name": "Python 3 (ipykernel)",
   "language": "python",
   "name": "python3"
  },
  "language_info": {
   "codemirror_mode": {
    "name": "ipython",
    "version": 3
   },
   "file_extension": ".py",
   "mimetype": "text/x-python",
   "name": "python",
   "nbconvert_exporter": "python",
   "pygments_lexer": "ipython3",
   "version": "3.9.12"
  }
 },
 "nbformat": 4,
 "nbformat_minor": 5
}
