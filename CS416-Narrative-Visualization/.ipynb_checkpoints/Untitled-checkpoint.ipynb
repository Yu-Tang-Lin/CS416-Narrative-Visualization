{
 "cells": [
  {
   "cell_type": "code",
   "execution_count": 1,
   "id": "c94f899c",
   "metadata": {},
   "outputs": [],
   "source": [
    "import pandas as pd\n",
    "\n",
    "# 讀取 CSV 檔案\n",
    "data = pd.read_csv('us-states.csv')\n",
    "\n",
    "# 將日期（date）欄位轉換為日期型別\n",
    "data['date'] = pd.to_datetime(data['date'])\n",
    "\n",
    "# 按州（state）進行分組\n",
    "grouped_data = data.groupby('state')\n",
    "\n",
    "# 建立新的 DataFrame 來儲存處理後的資料\n",
    "processed_data = pd.DataFrame()\n",
    "\n",
    "# 遍歷每個州（state）的資料\n",
    "for state, group in grouped_data:\n",
    "    # 按日期排序資料\n",
    "    group = group.sort_values('date')\n",
    "    \n",
    "    # 計算每天的每日病例數（daily cases）和每日死亡數（daily deaths）\n",
    "    group['daily cases'] = group['cases'].diff()\n",
    "    group['daily deaths'] = group['deaths'].diff()\n",
    "    \n",
    "    # 將處理後的資料合併到新的 DataFrame\n",
    "    processed_data = pd.concat([processed_data, group])\n",
    "\n",
    "# 重新設定索引\n",
    "processed_data.reset_index(drop=True, inplace=True)\n",
    "\n",
    "# 將結果儲存為新的 CSV 檔案\n",
    "processed_data.to_csv('us-states_processed.csv', index=False)"
   ]
  },
  {
   "cell_type": "code",
   "execution_count": null,
   "id": "7e9cc128",
   "metadata": {},
   "outputs": [],
   "source": []
  }
 ],
 "metadata": {
  "kernelspec": {
   "display_name": "Python 3 (ipykernel)",
   "language": "python",
   "name": "python3"
  },
  "language_info": {
   "codemirror_mode": {
    "name": "ipython",
    "version": 3
   },
   "file_extension": ".py",
   "mimetype": "text/x-python",
   "name": "python",
   "nbconvert_exporter": "python",
   "pygments_lexer": "ipython3",
   "version": "3.9.12"
  }
 },
 "nbformat": 4,
 "nbformat_minor": 5
}
